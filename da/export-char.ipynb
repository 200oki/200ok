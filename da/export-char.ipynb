{
 "cells": [
  {
   "cell_type": "markdown",
   "metadata": {},
   "source": [
    "# villager와 special npc를 합칩니다.\n",
    "\n",
    "## 목표\n",
    "\n",
    "- [ ] villager 필드 정리하고 special npc 합치기\n",
    "- [ ] tier, ranking 합치기\n",
    "  "
   ]
  },
  {
   "cell_type": "code",
   "execution_count": 57,
   "metadata": {},
   "outputs": [],
   "source": [
    "import numpy as np\n",
    "import pandas as pd"
   ]
  },
  {
   "cell_type": "code",
   "execution_count": 58,
   "metadata": {},
   "outputs": [],
   "source": [
    "chars = pd.read_excel('./datasets/villagers.xlsx')\n",
    "npcs = pd.read_excel('./datasets/special npcs.xlsx')\n",
    "pops = pd.read_excel('./datasets/popularity.xlsx')\n",
    "trans = pd.read_csv('./datasets/koname.txt', delimiter='\\t')"
   ]
  },
  {
   "cell_type": "code",
   "execution_count": 59,
   "metadata": {},
   "outputs": [
    {
     "name": "stdout",
     "output_type": "stream",
     "text": [
      "<class 'pandas.core.frame.DataFrame'>\n",
      "RangeIndex: 463 entries, 0 to 462\n",
      "Data columns (total 3 columns):\n",
      " #   Column  Non-Null Count  Dtype \n",
      "---  ------  --------------  ----- \n",
      " 0   id      463 non-null    object\n",
      " 1   en      463 non-null    object\n",
      " 2   ko      463 non-null    object\n",
      "dtypes: object(3)\n",
      "memory usage: 11.0+ KB\n"
     ]
    }
   ],
   "source": [
    "trans.info()"
   ]
  },
  {
   "cell_type": "markdown",
   "metadata": {},
   "source": [
    "생각해보니 번역 파일에 빠진게 있으니 하는김에 채워넣어야 할 것 같습니다."
   ]
  },
  {
   "cell_type": "code",
   "execution_count": 60,
   "metadata": {},
   "outputs": [
    {
     "data": {
      "text/html": [
       "<div>\n",
       "<style scoped>\n",
       "    .dataframe tbody tr th:only-of-type {\n",
       "        vertical-align: middle;\n",
       "    }\n",
       "\n",
       "    .dataframe tbody tr th {\n",
       "        vertical-align: top;\n",
       "    }\n",
       "\n",
       "    .dataframe thead th {\n",
       "        text-align: right;\n",
       "    }\n",
       "</style>\n",
       "<table border=\"1\" class=\"dataframe\">\n",
       "  <thead>\n",
       "    <tr style=\"text-align: right;\">\n",
       "      <th></th>\n",
       "      <th>en</th>\n",
       "      <th>ko</th>\n",
       "    </tr>\n",
       "  </thead>\n",
       "  <tbody>\n",
       "    <tr>\n",
       "      <th>0</th>\n",
       "      <td>Cyrus</td>\n",
       "      <td>리포</td>\n",
       "    </tr>\n",
       "    <tr>\n",
       "      <th>1</th>\n",
       "      <td>Copper</td>\n",
       "      <td>경찰관</td>\n",
       "    </tr>\n",
       "    <tr>\n",
       "      <th>2</th>\n",
       "      <td>Wilbur</td>\n",
       "      <td>로드리</td>\n",
       "    </tr>\n",
       "    <tr>\n",
       "      <th>3</th>\n",
       "      <td>DJ KK</td>\n",
       "      <td>DJ K.K.</td>\n",
       "    </tr>\n",
       "    <tr>\n",
       "      <th>4</th>\n",
       "      <td>Booker</td>\n",
       "      <td>경찰관</td>\n",
       "    </tr>\n",
       "  </tbody>\n",
       "</table>\n",
       "</div>"
      ],
      "text/plain": [
       "       en       ko\n",
       "0   Cyrus       리포\n",
       "1  Copper      경찰관\n",
       "2  Wilbur      로드리\n",
       "3   DJ KK  DJ K.K.\n",
       "4  Booker      경찰관"
      ]
     },
     "execution_count": 60,
     "metadata": {},
     "output_type": "execute_result"
    }
   ],
   "source": [
    "trans.drop('id', axis=1, inplace=True)\n",
    "trans.head()"
   ]
  },
  {
   "cell_type": "code",
   "execution_count": 61,
   "metadata": {},
   "outputs": [
    {
     "data": {
      "text/html": [
       "<div>\n",
       "<style scoped>\n",
       "    .dataframe tbody tr th:only-of-type {\n",
       "        vertical-align: middle;\n",
       "    }\n",
       "\n",
       "    .dataframe tbody tr th {\n",
       "        vertical-align: top;\n",
       "    }\n",
       "\n",
       "    .dataframe thead th {\n",
       "        text-align: right;\n",
       "    }\n",
       "</style>\n",
       "<table border=\"1\" class=\"dataframe\">\n",
       "  <thead>\n",
       "    <tr style=\"text-align: right;\">\n",
       "      <th></th>\n",
       "      <th>index</th>\n",
       "      <th>en</th>\n",
       "      <th>ko</th>\n",
       "    </tr>\n",
       "  </thead>\n",
       "  <tbody>\n",
       "    <tr>\n",
       "      <th>0</th>\n",
       "      <td>0</td>\n",
       "      <td>Cyrus</td>\n",
       "      <td>리포</td>\n",
       "    </tr>\n",
       "    <tr>\n",
       "      <th>1</th>\n",
       "      <td>1</td>\n",
       "      <td>Copper</td>\n",
       "      <td>경찰관</td>\n",
       "    </tr>\n",
       "    <tr>\n",
       "      <th>2</th>\n",
       "      <td>2</td>\n",
       "      <td>Wilbur</td>\n",
       "      <td>로드리</td>\n",
       "    </tr>\n",
       "    <tr>\n",
       "      <th>3</th>\n",
       "      <td>3</td>\n",
       "      <td>DJ KK</td>\n",
       "      <td>DJ K.K.</td>\n",
       "    </tr>\n",
       "    <tr>\n",
       "      <th>4</th>\n",
       "      <td>4</td>\n",
       "      <td>Booker</td>\n",
       "      <td>경찰관</td>\n",
       "    </tr>\n",
       "    <tr>\n",
       "      <th>...</th>\n",
       "      <td>...</td>\n",
       "      <td>...</td>\n",
       "      <td>...</td>\n",
       "    </tr>\n",
       "    <tr>\n",
       "      <th>479</th>\n",
       "      <td>16</td>\n",
       "      <td>Zoe</td>\n",
       "      <td>소면</td>\n",
       "    </tr>\n",
       "    <tr>\n",
       "      <th>480</th>\n",
       "      <td>17</td>\n",
       "      <td>OHare</td>\n",
       "      <td>산토스</td>\n",
       "    </tr>\n",
       "    <tr>\n",
       "      <th>481</th>\n",
       "      <td>18</td>\n",
       "      <td>Crackle(Spork)</td>\n",
       "      <td>포크</td>\n",
       "    </tr>\n",
       "    <tr>\n",
       "      <th>482</th>\n",
       "      <td>19</td>\n",
       "      <td>Ace</td>\n",
       "      <td>페더</td>\n",
       "    </tr>\n",
       "    <tr>\n",
       "      <th>483</th>\n",
       "      <td>20</td>\n",
       "      <td>Frett</td>\n",
       "      <td>샹펜</td>\n",
       "    </tr>\n",
       "  </tbody>\n",
       "</table>\n",
       "<p>484 rows × 3 columns</p>\n",
       "</div>"
      ],
      "text/plain": [
       "     index              en       ko\n",
       "0        0           Cyrus       리포\n",
       "1        1          Copper      경찰관\n",
       "2        2          Wilbur      로드리\n",
       "3        3           DJ KK  DJ K.K.\n",
       "4        4          Booker      경찰관\n",
       "..     ...             ...      ...\n",
       "479     16             Zoe       소면\n",
       "480     17           OHare      산토스\n",
       "481     18  Crackle(Spork)       포크\n",
       "482     19             Ace       페더\n",
       "483     20           Frett       샹펜\n",
       "\n",
       "[484 rows x 3 columns]"
      ]
     },
     "execution_count": 61,
     "metadata": {},
     "output_type": "execute_result"
    }
   ],
   "source": [
    "missing = {\n",
    "    'Shino': '요비',\n",
    "    'Sasha': '미첼',\n",
    "    'Ione': '스피카',\n",
    "    'Cephalobot': '기가',\n",
    "    'Tiansheng': '제천',\n",
    "    'Petri': '리카',\n",
    "    'Quinn': '시온',\n",
    "    'Marlo': '보스터',\n",
    "    'Azalea': '페튜니아',\n",
    "    'Faith': '마치',\n",
    "    'Chabwick': '펭구',\n",
    "    'WartJr': '샘',\n",
    "    'Rio': '데자네',\n",
    "    'Buck(Brows)': '바야시코프',\n",
    "    'Renee': '뿔님이',\n",
    "    'Roswell': '삐로코',\n",
    "    'Zoe': '소면',\n",
    "    'OHare': '산토스',\n",
    "    'Crackle(Spork)': '포크',\n",
    "    'Ace': '페더',\n",
    "    'Frett': '샹펜',\n",
    "}\n",
    "\n",
    "en, ko = zip(*missing.items())\n",
    "# print(en, ko)\n",
    "amend = pd.DataFrame({'en': en, 'ko': ko})\n",
    "# amend.head()\n",
    "\n",
    "trans = pd.concat([trans, amend], axis=0)\n",
    "trans.reset_index()\n"
   ]
  },
  {
   "cell_type": "code",
   "execution_count": 62,
   "metadata": {},
   "outputs": [],
   "source": [
    "trans.reset_index(inplace=True)"
   ]
  },
  {
   "cell_type": "code",
   "execution_count": 63,
   "metadata": {},
   "outputs": [
    {
     "data": {
      "text/html": [
       "<div>\n",
       "<style scoped>\n",
       "    .dataframe tbody tr th:only-of-type {\n",
       "        vertical-align: middle;\n",
       "    }\n",
       "\n",
       "    .dataframe tbody tr th {\n",
       "        vertical-align: top;\n",
       "    }\n",
       "\n",
       "    .dataframe thead th {\n",
       "        text-align: right;\n",
       "    }\n",
       "</style>\n",
       "<table border=\"1\" class=\"dataframe\">\n",
       "  <thead>\n",
       "    <tr style=\"text-align: right;\">\n",
       "      <th></th>\n",
       "      <th>level_0</th>\n",
       "      <th>index</th>\n",
       "      <th>en</th>\n",
       "      <th>ko</th>\n",
       "    </tr>\n",
       "  </thead>\n",
       "  <tbody>\n",
       "    <tr>\n",
       "      <th>0</th>\n",
       "      <td>64</td>\n",
       "      <td>64</td>\n",
       "      <td>???</td>\n",
       "      <td>???</td>\n",
       "    </tr>\n",
       "    <tr>\n",
       "      <th>1</th>\n",
       "      <td>482</td>\n",
       "      <td>19</td>\n",
       "      <td>Ace</td>\n",
       "      <td>페더</td>\n",
       "    </tr>\n",
       "    <tr>\n",
       "      <th>2</th>\n",
       "      <td>151</td>\n",
       "      <td>151</td>\n",
       "      <td>Admiral</td>\n",
       "      <td>일섭</td>\n",
       "    </tr>\n",
       "    <tr>\n",
       "      <th>3</th>\n",
       "      <td>415</td>\n",
       "      <td>415</td>\n",
       "      <td>Agent S</td>\n",
       "      <td>2호</td>\n",
       "    </tr>\n",
       "    <tr>\n",
       "      <th>4</th>\n",
       "      <td>83</td>\n",
       "      <td>83</td>\n",
       "      <td>Agnes</td>\n",
       "      <td>아그네스</td>\n",
       "    </tr>\n",
       "  </tbody>\n",
       "</table>\n",
       "</div>"
      ],
      "text/plain": [
       "   level_0  index       en    ko\n",
       "0       64     64      ???   ???\n",
       "1      482     19      Ace    페더\n",
       "2      151    151  Admiral    일섭\n",
       "3      415    415  Agent S    2호\n",
       "4       83     83    Agnes  아그네스"
      ]
     },
     "execution_count": 63,
     "metadata": {},
     "output_type": "execute_result"
    }
   ],
   "source": [
    "trans = trans.sort_values('en').reset_index()\n",
    "trans.head()"
   ]
  },
  {
   "cell_type": "code",
   "execution_count": 64,
   "metadata": {},
   "outputs": [
    {
     "data": {
      "text/html": [
       "<div>\n",
       "<style scoped>\n",
       "    .dataframe tbody tr th:only-of-type {\n",
       "        vertical-align: middle;\n",
       "    }\n",
       "\n",
       "    .dataframe tbody tr th {\n",
       "        vertical-align: top;\n",
       "    }\n",
       "\n",
       "    .dataframe thead th {\n",
       "        text-align: right;\n",
       "    }\n",
       "</style>\n",
       "<table border=\"1\" class=\"dataframe\">\n",
       "  <thead>\n",
       "    <tr style=\"text-align: right;\">\n",
       "      <th></th>\n",
       "      <th>en</th>\n",
       "      <th>ko</th>\n",
       "    </tr>\n",
       "  </thead>\n",
       "  <tbody>\n",
       "    <tr>\n",
       "      <th>0</th>\n",
       "      <td>???</td>\n",
       "      <td>???</td>\n",
       "    </tr>\n",
       "    <tr>\n",
       "      <th>1</th>\n",
       "      <td>Ace</td>\n",
       "      <td>페더</td>\n",
       "    </tr>\n",
       "    <tr>\n",
       "      <th>2</th>\n",
       "      <td>Admiral</td>\n",
       "      <td>일섭</td>\n",
       "    </tr>\n",
       "    <tr>\n",
       "      <th>3</th>\n",
       "      <td>Agent S</td>\n",
       "      <td>2호</td>\n",
       "    </tr>\n",
       "    <tr>\n",
       "      <th>4</th>\n",
       "      <td>Agnes</td>\n",
       "      <td>아그네스</td>\n",
       "    </tr>\n",
       "  </tbody>\n",
       "</table>\n",
       "</div>"
      ],
      "text/plain": [
       "        en    ko\n",
       "0      ???   ???\n",
       "1      Ace    페더\n",
       "2  Admiral    일섭\n",
       "3  Agent S    2호\n",
       "4    Agnes  아그네스"
      ]
     },
     "execution_count": 64,
     "metadata": {},
     "output_type": "execute_result"
    }
   ],
   "source": [
    "trans.drop(['level_0', 'index'], axis=1, inplace=True)\n",
    "trans.head()"
   ]
  },
  {
   "cell_type": "code",
   "execution_count": 65,
   "metadata": {},
   "outputs": [],
   "source": [
    "trans.to_excel('./datasets/trans.xlsx')"
   ]
  }
 ],
 "metadata": {
  "interpreter": {
   "hash": "6a28367f67cdc883bf0651ab926a45cdaf5821f65ab5104ac3f819fe9582a76b"
  },
  "kernelspec": {
   "display_name": "Python 3.10.2 ('.venv': venv)",
   "language": "python",
   "name": "python3"
  },
  "language_info": {
   "codemirror_mode": {
    "name": "ipython",
    "version": 3
   },
   "file_extension": ".py",
   "mimetype": "text/x-python",
   "name": "python",
   "nbconvert_exporter": "python",
   "pygments_lexer": "ipython3",
   "version": "3.10.2"
  },
  "orig_nbformat": 4
 },
 "nbformat": 4,
 "nbformat_minor": 2
}
