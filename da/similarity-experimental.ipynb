{
 "cells": [
  {
   "cell_type": "markdown",
   "metadata": {},
   "source": [
    "# 유사성 분석을 테스트하기 위한 노트북입니다.\n",
    "\n",
    "## 계획\n",
    "\n",
    "쓸모없는 칼럼을 제거한 전용 데이터를 만듭니다.\n",
    "\n",
    "이 작업은 엑셀이 더 편하므로 엑셀에서 합니다.\n"
   ]
  },
  {
   "cell_type": "code",
   "execution_count": null,
   "metadata": {},
   "outputs": [],
   "source": []
  }
 ],
 "metadata": {
  "language_info": {
   "name": "python"
  },
  "orig_nbformat": 4
 },
 "nbformat": 4,
 "nbformat_minor": 2
}
