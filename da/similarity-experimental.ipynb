{
 "cells": [
  {
   "cell_type": "markdown",
   "metadata": {},
   "source": [
    "# 유사성 분석을 테스트하기 위한 노트북입니다.\n",
    "\n",
    "## 준비\n",
    "\n",
    "쓸모없는 칼럼을 제거한 전용 데이터를 만듭니다.\n",
    "\n",
    "이 작업은 엑셀이 더 편하므로 엑셀에서 합니다.\n",
    "\n",
    "1. 특수 npc를 전부 날립니다. 특수 npc들은 속성이 너무 부족합니다.\n",
    "2. `special` 열은 지웁니다.\n",
    "3. `image_photo`, `image_house` 열도 지웁니다. `image_icon`은 혹시 모르니 남겨 두겠습니다.\n",
    "4. `gender` 열을 지우고 `gender_asia`를 `gender`로 이름을 바꿉니다.\n",
    "5. 마찬가지로 `personality_subtype`, `catchphrase`, `favorite_song`, `favorite_saying`, `tier`, `rank`도 사용자에게 질문할 수 없는 항목이므로 버립니다.\n",
    "6. 나머지는 좀 더 생각이 필요하거나 코드로 해야 편한 작업들인 것 같습니다.\n",
    "7. 빈 항목이 없도록 주의"
   ]
  },
  {
   "cell_type": "code",
   "execution_count": 20,
   "metadata": {},
   "outputs": [],
   "source": [
    "import ast\n",
    "import calendar\n",
    "import datetime\n",
    "from functools import partial\n",
    "\n",
    "import numpy as np\n",
    "import pandas as pd"
   ]
  },
  {
   "cell_type": "code",
   "execution_count": 3,
   "metadata": {},
   "outputs": [],
   "source": [
    "chars = pd.read_excel(\n",
    "  './datasets/characters-similarity.xlsx',\n",
    "  sheet_name='Table1'\n",
    ")"
   ]
  },
  {
   "cell_type": "code",
   "execution_count": 3,
   "metadata": {},
   "outputs": [
    {
     "name": "stdout",
     "output_type": "stream",
     "text": [
      "<class 'pandas.core.frame.DataFrame'>\n",
      "RangeIndex: 391 entries, 0 to 390\n",
      "Data columns (total 13 columns):\n",
      " #   Column          Non-Null Count  Dtype \n",
      "---  ------          --------------  ----- \n",
      " 0   id              390 non-null    object\n",
      " 1   name_en         391 non-null    object\n",
      " 2   name_ko         391 non-null    object\n",
      " 3   image_icon      391 non-null    object\n",
      " 4   species         391 non-null    object\n",
      " 5   gender          391 non-null    object\n",
      " 6   birthday        391 non-null    object\n",
      " 7   birthday_month  391 non-null    int64 \n",
      " 8   birthday_day    391 non-null    int64 \n",
      " 9   personality     391 non-null    object\n",
      " 10  hobby           391 non-null    object\n",
      " 11  styles          391 non-null    object\n",
      " 12  colors          391 non-null    object\n",
      "dtypes: int64(2), object(11)\n",
      "memory usage: 39.8+ KB\n"
     ]
    },
    {
     "data": {
      "text/html": [
       "<div>\n",
       "<style scoped>\n",
       "    .dataframe tbody tr th:only-of-type {\n",
       "        vertical-align: middle;\n",
       "    }\n",
       "\n",
       "    .dataframe tbody tr th {\n",
       "        vertical-align: top;\n",
       "    }\n",
       "\n",
       "    .dataframe thead th {\n",
       "        text-align: right;\n",
       "    }\n",
       "</style>\n",
       "<table border=\"1\" class=\"dataframe\">\n",
       "  <thead>\n",
       "    <tr style=\"text-align: right;\">\n",
       "      <th></th>\n",
       "      <th>id</th>\n",
       "      <th>name_en</th>\n",
       "      <th>name_ko</th>\n",
       "      <th>image_icon</th>\n",
       "      <th>species</th>\n",
       "      <th>gender</th>\n",
       "      <th>birthday</th>\n",
       "      <th>birthday_month</th>\n",
       "      <th>birthday_day</th>\n",
       "      <th>personality</th>\n",
       "      <th>hobby</th>\n",
       "      <th>styles</th>\n",
       "      <th>colors</th>\n",
       "    </tr>\n",
       "  </thead>\n",
       "  <tbody>\n",
       "    <tr>\n",
       "      <th>0</th>\n",
       "      <td>admiral</td>\n",
       "      <td>Admiral</td>\n",
       "      <td>일섭</td>\n",
       "      <td>https://acnhcdn.com/latest/NpcIcon/brd06.png</td>\n",
       "      <td>Bird</td>\n",
       "      <td>Male</td>\n",
       "      <td>01-27</td>\n",
       "      <td>1</td>\n",
       "      <td>27</td>\n",
       "      <td>무뚝뚝</td>\n",
       "      <td>자연</td>\n",
       "      <td>['쿨']</td>\n",
       "      <td>['검정색', '파랑색']</td>\n",
       "    </tr>\n",
       "    <tr>\n",
       "      <th>1</th>\n",
       "      <td>agents</td>\n",
       "      <td>Agent S</td>\n",
       "      <td>2호</td>\n",
       "      <td>https://acnhcdn.com/latest/NpcIcon/squ05.png</td>\n",
       "      <td>Squirrel</td>\n",
       "      <td>Female</td>\n",
       "      <td>07-02</td>\n",
       "      <td>7</td>\n",
       "      <td>2</td>\n",
       "      <td>아이돌</td>\n",
       "      <td>운동</td>\n",
       "      <td>['심플', '액티브']</td>\n",
       "      <td>['검정색', '파랑색']</td>\n",
       "    </tr>\n",
       "    <tr>\n",
       "      <th>2</th>\n",
       "      <td>agnes</td>\n",
       "      <td>Agnes</td>\n",
       "      <td>아그네스</td>\n",
       "      <td>https://acnhcdn.com/latest/NpcIcon/pig17.png</td>\n",
       "      <td>Pig</td>\n",
       "      <td>Female</td>\n",
       "      <td>04-21</td>\n",
       "      <td>4</td>\n",
       "      <td>21</td>\n",
       "      <td>단순 활발</td>\n",
       "      <td>놀이</td>\n",
       "      <td>['심플', '엘레강스']</td>\n",
       "      <td>['하양색', '핑크색']</td>\n",
       "    </tr>\n",
       "    <tr>\n",
       "      <th>3</th>\n",
       "      <td>al</td>\n",
       "      <td>Al</td>\n",
       "      <td>우락</td>\n",
       "      <td>https://acnhcdn.com/latest/NpcIcon/gor08.png</td>\n",
       "      <td>Gorilla</td>\n",
       "      <td>Male</td>\n",
       "      <td>10-18</td>\n",
       "      <td>10</td>\n",
       "      <td>18</td>\n",
       "      <td>먹보</td>\n",
       "      <td>운동</td>\n",
       "      <td>['액티브']</td>\n",
       "      <td>['하양색', '빨강색']</td>\n",
       "    </tr>\n",
       "    <tr>\n",
       "      <th>4</th>\n",
       "      <td>alfonso</td>\n",
       "      <td>Alfonso</td>\n",
       "      <td>알베르트</td>\n",
       "      <td>https://acnhcdn.com/latest/NpcIcon/crd00.png</td>\n",
       "      <td>Alligator</td>\n",
       "      <td>Male</td>\n",
       "      <td>06-09</td>\n",
       "      <td>6</td>\n",
       "      <td>9</td>\n",
       "      <td>먹보</td>\n",
       "      <td>놀이</td>\n",
       "      <td>['심플']</td>\n",
       "      <td>['빨강색', '파랑색']</td>\n",
       "    </tr>\n",
       "  </tbody>\n",
       "</table>\n",
       "</div>"
      ],
      "text/plain": [
       "        id  name_en name_ko                                    image_icon  \\\n",
       "0  admiral  Admiral      일섭  https://acnhcdn.com/latest/NpcIcon/brd06.png   \n",
       "1   agents  Agent S      2호  https://acnhcdn.com/latest/NpcIcon/squ05.png   \n",
       "2    agnes    Agnes    아그네스  https://acnhcdn.com/latest/NpcIcon/pig17.png   \n",
       "3       al       Al      우락  https://acnhcdn.com/latest/NpcIcon/gor08.png   \n",
       "4  alfonso  Alfonso    알베르트  https://acnhcdn.com/latest/NpcIcon/crd00.png   \n",
       "\n",
       "     species  gender birthday  birthday_month  birthday_day personality hobby  \\\n",
       "0       Bird    Male    01-27               1            27         무뚝뚝    자연   \n",
       "1   Squirrel  Female    07-02               7             2         아이돌    운동   \n",
       "2        Pig  Female    04-21               4            21       단순 활발    놀이   \n",
       "3    Gorilla    Male    10-18              10            18          먹보    운동   \n",
       "4  Alligator    Male    06-09               6             9          먹보    놀이   \n",
       "\n",
       "           styles          colors  \n",
       "0           ['쿨']  ['검정색', '파랑색']  \n",
       "1   ['심플', '액티브']  ['검정색', '파랑색']  \n",
       "2  ['심플', '엘레강스']  ['하양색', '핑크색']  \n",
       "3         ['액티브']  ['하양색', '빨강색']  \n",
       "4          ['심플']  ['빨강색', '파랑색']  "
      ]
     },
     "execution_count": 3,
     "metadata": {},
     "output_type": "execute_result"
    }
   ],
   "source": [
    "chars.info()\n",
    "chars.head()"
   ]
  },
  {
   "cell_type": "code",
   "execution_count": 7,
   "metadata": {},
   "outputs": [
    {
     "data": {
      "text/plain": [
       "\"['쿨']\""
      ]
     },
     "execution_count": 7,
     "metadata": {},
     "output_type": "execute_result"
    }
   ],
   "source": [
    "chars['styles'].iloc[0]"
   ]
  },
  {
   "cell_type": "markdown",
   "metadata": {},
   "source": [
    "리스트들이 제대로 처리가 안 되어 있으니 변환합니다."
   ]
  },
  {
   "cell_type": "code",
   "execution_count": 4,
   "metadata": {},
   "outputs": [
    {
     "name": "stdout",
     "output_type": "stream",
     "text": [
      "0           [쿨]\n",
      "1     [심플, 액티브]\n",
      "2    [심플, 엘레강스]\n",
      "3         [액티브]\n",
      "4          [심플]\n",
      "Name: styles, dtype: object\n",
      "0    [검정색, 파랑색]\n",
      "1    [검정색, 파랑색]\n",
      "2    [하양색, 핑크색]\n",
      "3    [하양색, 빨강색]\n",
      "4    [빨강색, 파랑색]\n",
      "Name: colors, dtype: object\n"
     ]
    }
   ],
   "source": [
    "chars['styles'] = chars['styles'].apply(ast.literal_eval)\n",
    "chars['colors'] = chars['colors'].apply(ast.literal_eval)\n",
    "print(chars['styles'].head())\n",
    "print(chars['colors'].head())"
   ]
  },
  {
   "cell_type": "code",
   "execution_count": 17,
   "metadata": {},
   "outputs": [
    {
     "data": {
      "text/html": [
       "<div>\n",
       "<style scoped>\n",
       "    .dataframe tbody tr th:only-of-type {\n",
       "        vertical-align: middle;\n",
       "    }\n",
       "\n",
       "    .dataframe tbody tr th {\n",
       "        vertical-align: top;\n",
       "    }\n",
       "\n",
       "    .dataframe thead th {\n",
       "        text-align: right;\n",
       "    }\n",
       "</style>\n",
       "<table border=\"1\" class=\"dataframe\">\n",
       "  <thead>\n",
       "    <tr style=\"text-align: right;\">\n",
       "      <th></th>\n",
       "      <th>styles</th>\n",
       "      <th>colors</th>\n",
       "    </tr>\n",
       "  </thead>\n",
       "  <tbody>\n",
       "    <tr>\n",
       "      <th>0</th>\n",
       "      <td>[쿨]</td>\n",
       "      <td>[검정색, 파랑색]</td>\n",
       "    </tr>\n",
       "    <tr>\n",
       "      <th>1</th>\n",
       "      <td>[심플, 액티브]</td>\n",
       "      <td>[검정색, 파랑색]</td>\n",
       "    </tr>\n",
       "    <tr>\n",
       "      <th>2</th>\n",
       "      <td>[심플, 엘레강스]</td>\n",
       "      <td>[하양색, 핑크색]</td>\n",
       "    </tr>\n",
       "    <tr>\n",
       "      <th>3</th>\n",
       "      <td>[액티브]</td>\n",
       "      <td>[하양색, 빨강색]</td>\n",
       "    </tr>\n",
       "    <tr>\n",
       "      <th>4</th>\n",
       "      <td>[심플]</td>\n",
       "      <td>[빨강색, 파랑색]</td>\n",
       "    </tr>\n",
       "    <tr>\n",
       "      <th>...</th>\n",
       "      <td>...</td>\n",
       "      <td>...</td>\n",
       "    </tr>\n",
       "    <tr>\n",
       "      <th>386</th>\n",
       "      <td>[심플, 쿨]</td>\n",
       "      <td>[하양색, 회색]</td>\n",
       "    </tr>\n",
       "    <tr>\n",
       "      <th>387</th>\n",
       "      <td>[액티브, 쿨]</td>\n",
       "      <td>[초록색, 검정색]</td>\n",
       "    </tr>\n",
       "    <tr>\n",
       "      <th>388</th>\n",
       "      <td>[엘레강스, 쿨]</td>\n",
       "      <td>[오렌지색, 노랑색]</td>\n",
       "    </tr>\n",
       "    <tr>\n",
       "      <th>389</th>\n",
       "      <td>[고져스, 쿨]</td>\n",
       "      <td>[보라색, 회색]</td>\n",
       "    </tr>\n",
       "    <tr>\n",
       "      <th>390</th>\n",
       "      <td>[심플, 큐트]</td>\n",
       "      <td>[파랑색, 노랑색]</td>\n",
       "    </tr>\n",
       "  </tbody>\n",
       "</table>\n",
       "<p>391 rows × 2 columns</p>\n",
       "</div>"
      ],
      "text/plain": [
       "         styles       colors\n",
       "0           [쿨]   [검정색, 파랑색]\n",
       "1     [심플, 액티브]   [검정색, 파랑색]\n",
       "2    [심플, 엘레강스]   [하양색, 핑크색]\n",
       "3         [액티브]   [하양색, 빨강색]\n",
       "4          [심플]   [빨강색, 파랑색]\n",
       "..          ...          ...\n",
       "386     [심플, 쿨]    [하양색, 회색]\n",
       "387    [액티브, 쿨]   [초록색, 검정색]\n",
       "388   [엘레강스, 쿨]  [오렌지색, 노랑색]\n",
       "389    [고져스, 쿨]    [보라색, 회색]\n",
       "390    [심플, 큐트]   [파랑색, 노랑색]\n",
       "\n",
       "[391 rows x 2 columns]"
      ]
     },
     "execution_count": 17,
     "metadata": {},
     "output_type": "execute_result"
    }
   ],
   "source": [
    "chars[['styles', 'colors']]"
   ]
  },
  {
   "cell_type": "markdown",
   "metadata": {},
   "source": [
    "## 계획\n",
    "\n",
    "유사성 평가에 사용할 속성은 아래의 5개입니다.\n",
    "- birthday\n",
    "- hobby\n",
    "- personality\n",
    "- style\n",
    "- color\n",
    "\n",
    "이 중 style과 color는 한 개일 수도 있고 두 개일 수도 있어서 약간 골치가 아픕니다.\n",
    "\n",
    "### 비교 주체 고르기\n",
    "\n",
    "overlap 비스무리한 분석은 항목이 여러 개인 카테고리도 같거나 다르거나로 취급하기 때문에\n",
    "모든 캐릭터의 특성이 한 눈에 보이는 테이블은 만들기가 곤란합니다.\n",
    "따라서 실험용으로 사용할 캐릭터가 하나 필요합니다.\n",
    "\n",
    "그냥 맨 위에 있는 일섭이란 놈으로 합시다. (admiral)\n",
    "\n",
    "### 대략적인 과정\n",
    "\n",
    "1. 사용자에게 질문을 받습니다.\n",
    "2. 5가지 속성 중 2가지로 먼저 필터링을 해서 연산 수를 줄입니다.\n",
    "3. 남은 3속성은 3차원이므로 3차원 스캐터 그래프로 유사성을 보여줄 수 있습니다.\n",
    "4. 캐릭터가 대략 400명이고, 2가지 필터링을 거치고 나면 많아봐야 100명 쯤 남을 것입니다.\n",
    "5. 남은 캐릭터에 대해 벡터 크기를 계산하고 정렬합니다.\n",
    "6. 벡터 크기는 차이입니다. 앞에 오는 캐릭터가 유사한 캐릭터, 뒤에 오면 다른 것입니다.\n",
    "\n",
    "### 어떤 속성으로 먼저 걸러야 하는가?\n",
    "\n",
    "그건 좀 생각을 해 봐야 합니다.\n",
    "\n",
    "기본적으로는 한번에 최대한 많이, 그리고 균일하게 걸러낼 수 있는 속성이 좋을 것입니다.\n"
   ]
  },
  {
   "cell_type": "code",
   "execution_count": 21,
   "metadata": {},
   "outputs": [
    {
     "data": {
      "text/plain": [
       "hobby\n",
       "교육    64\n",
       "놀이    65\n",
       "운동    66\n",
       "음악    64\n",
       "자연    65\n",
       "패션    66\n",
       "Name: id, dtype: int64"
      ]
     },
     "execution_count": 21,
     "metadata": {},
     "output_type": "execute_result"
    }
   ],
   "source": [
    "chars.groupby('hobby').count()['id']"
   ]
  },
  {
   "cell_type": "code",
   "execution_count": 22,
   "metadata": {},
   "outputs": [
    {
     "data": {
      "text/plain": [
       "personality\n",
       "느끼함      34\n",
       "단순 활발    24\n",
       "먹보       60\n",
       "무뚝뚝      55\n",
       "성숙함      55\n",
       "아이돌      49\n",
       "운동광      55\n",
       "친절함      58\n",
       "Name: id, dtype: int64"
      ]
     },
     "execution_count": 22,
     "metadata": {},
     "output_type": "execute_result"
    }
   ],
   "source": [
    "chars.groupby('personality').count()['id']"
   ]
  },
  {
   "cell_type": "code",
   "execution_count": 23,
   "metadata": {},
   "outputs": [
    {
     "data": {
      "text/plain": [
       "birthday\n",
       "01-01    1\n",
       "01-02    1\n",
       "01-03    1\n",
       "01-04    1\n",
       "01-05    1\n",
       "        ..\n",
       "12-27    1\n",
       "12-28    1\n",
       "12-29    2\n",
       "12-30    1\n",
       "12-31    1\n",
       "Name: id, Length: 361, dtype: int64"
      ]
     },
     "execution_count": 23,
     "metadata": {},
     "output_type": "execute_result"
    }
   ],
   "source": [
    "chars.groupby('birthday').count()['id']"
   ]
  },
  {
   "cell_type": "markdown",
   "metadata": {},
   "source": [
    "필터를 두 번만 하면 100명이 아니라 10명도 안 남을 것 같습니다.\n",
    "\n",
    "윤년이 생일인 녀석(몽셰르)이 있으니 1년은 366일인데 위에선 361개밖에 없는 걸 보니 빠진 일이 5개가 있는 모양입니다. 그래도 상관 없습니다."
   ]
  },
  {
   "cell_type": "markdown",
   "metadata": {},
   "source": [
    "## 대안\n",
    "\n",
    "앞의 방법은 속성 중 2가지에 대한 평가가 완전히 옳다고 치고 걸러내는 것입니다.\n",
    "\n",
    "하지만 속성 한번에 대략 1/7이 걸러지므로 두 번을 하고 나면 평균적으로 비교할 캐릭터는 10명 남짓밖에 남지 않을 것입니다. 아마 상당히 심심한 그래프가 될 겁니다.\n",
    "\n",
    "대안은 5차원을 전부 사용하고 대신 3차원 스캐터 그래프에 `hue`, `size` 값에 변화를 주어 차원 2개를 어거지로 만들어 내는 것입니다.\n",
    "\n",
    "단점:\n",
    "  - 사람에게 보이는 가까운 거리와 계산 결과 가까운 거리가 다를 수 있습니다.\n",
    "  - 따라서 보여주니까 뭔가 멋지긴 하지만 사실상 그래프로 유의미한 해석을 하는 것은 힘들 것입니다.\n",
    "\n",
    "따라서, 만약 저렇게 한다면 `hue`와 `size`로 나타내는 속성은 좀 덜 중요한 것을 넣고 비중을 조절한다든지 해야 할 것입니다.\n",
    "\n",
    "또한, 만약 위의 방법으로 할 것에 대비해 5속성 모두에 대해 유사성을 평가하는 논리를 결정해 두어야 합니다.\n"
   ]
  },
  {
   "cell_type": "markdown",
   "metadata": {},
   "source": [
    "## 평가 방법\n",
    "\n",
    "모든 방법은 자바스크립트와 파이썬 모두에서 구현 가능해야 합니다.\n",
    "\n",
    "### `birthday`\n",
    "\n",
    "일 수로 바꾸어 날짜 차이를 계산합니다.\n",
    "주의사항은 생일이 2월 29일인 녀석이 있습니다.\n",
    "\n",
    "```\n",
    "diff = abs(yday2 - yday1) % 183\n",
    "```\n"
   ]
  },
  {
   "cell_type": "code",
   "execution_count": 5,
   "metadata": {},
   "outputs": [],
   "source": [
    "def diff_dob(yday1, yday2):\n",
    "  diff = yday1 - yday2\n",
    "  if abs(diff) < 182.5:\n",
    "    return abs(diff)\n",
    "  else:\n",
    "    return 182.5*2 - abs(diff)"
   ]
  },
  {
   "cell_type": "code",
   "execution_count": 6,
   "metadata": {},
   "outputs": [
    {
     "name": "stdout",
     "output_type": "stream",
     "text": [
      "1.0\n"
     ]
    }
   ],
   "source": [
    "print(diff_dob(1, 365))\n",
    "\n",
    "assert diff_dob(1, 365) == 1\n",
    "assert diff_dob(364, 1) == 2\n",
    "assert diff_dob(31, 59) == 28\n",
    "assert diff_dob(59, 31) == 28"
   ]
  },
  {
   "cell_type": "code",
   "execution_count": 46,
   "metadata": {},
   "outputs": [
    {
     "data": {
      "text/plain": [
       "1"
      ]
     },
     "execution_count": 46,
     "metadata": {},
     "output_type": "execute_result"
    }
   ],
   "source": [
    "# calendar.isleap(datetime.date.today().year)\n",
    "\n",
    "# today = datetime.date.today()\n",
    "# today.timetuple().tm_yday\n",
    "\n",
    "day = datetime.date(2022, 1, 1)\n",
    "day.timetuple().tm_yday"
   ]
  },
  {
   "cell_type": "markdown",
   "metadata": {},
   "source": [
    "### `hobby`, `personality`\n",
    "\n",
    "단순하게 같으면 0, 다르면 1입니다."
   ]
  },
  {
   "cell_type": "markdown",
   "metadata": {},
   "source": [
    "### `colors`, `styles`\n",
    "\n",
    "두 캐릭터의 교집합을 구해서 길이를 보고 2면 1, 1이면 0.5, 0이면 0입니다."
   ]
  },
  {
   "cell_type": "markdown",
   "metadata": {},
   "source": [
    "## 일섭에게 적용해보기\n",
    "\n",
    "일섭을 기준으로 다른 모든 캐릭터와의 비교를 마치면 최종 유사도 테이블의 한 행이 완성됩니다."
   ]
  },
  {
   "cell_type": "code",
   "execution_count": 53,
   "metadata": {},
   "outputs": [
    {
     "data": {
      "text/html": [
       "<div>\n",
       "<style scoped>\n",
       "    .dataframe tbody tr th:only-of-type {\n",
       "        vertical-align: middle;\n",
       "    }\n",
       "\n",
       "    .dataframe tbody tr th {\n",
       "        vertical-align: top;\n",
       "    }\n",
       "\n",
       "    .dataframe thead th {\n",
       "        text-align: right;\n",
       "    }\n",
       "</style>\n",
       "<table border=\"1\" class=\"dataframe\">\n",
       "  <thead>\n",
       "    <tr style=\"text-align: right;\">\n",
       "      <th></th>\n",
       "      <th>id</th>\n",
       "      <th>name_en</th>\n",
       "      <th>name_ko</th>\n",
       "      <th>image_icon</th>\n",
       "      <th>species</th>\n",
       "      <th>gender</th>\n",
       "      <th>birthday</th>\n",
       "      <th>birthday_month</th>\n",
       "      <th>birthday_day</th>\n",
       "      <th>personality</th>\n",
       "      <th>hobby</th>\n",
       "      <th>styles</th>\n",
       "      <th>colors</th>\n",
       "    </tr>\n",
       "  </thead>\n",
       "  <tbody>\n",
       "    <tr>\n",
       "      <th>0</th>\n",
       "      <td>admiral</td>\n",
       "      <td>Admiral</td>\n",
       "      <td>일섭</td>\n",
       "      <td>https://acnhcdn.com/latest/NpcIcon/brd06.png</td>\n",
       "      <td>Bird</td>\n",
       "      <td>Male</td>\n",
       "      <td>01-27</td>\n",
       "      <td>1</td>\n",
       "      <td>27</td>\n",
       "      <td>무뚝뚝</td>\n",
       "      <td>자연</td>\n",
       "      <td>[쿨]</td>\n",
       "      <td>[검정색, 파랑색]</td>\n",
       "    </tr>\n",
       "    <tr>\n",
       "      <th>1</th>\n",
       "      <td>agents</td>\n",
       "      <td>Agent S</td>\n",
       "      <td>2호</td>\n",
       "      <td>https://acnhcdn.com/latest/NpcIcon/squ05.png</td>\n",
       "      <td>Squirrel</td>\n",
       "      <td>Female</td>\n",
       "      <td>07-02</td>\n",
       "      <td>7</td>\n",
       "      <td>2</td>\n",
       "      <td>아이돌</td>\n",
       "      <td>운동</td>\n",
       "      <td>[심플, 액티브]</td>\n",
       "      <td>[검정색, 파랑색]</td>\n",
       "    </tr>\n",
       "    <tr>\n",
       "      <th>2</th>\n",
       "      <td>agnes</td>\n",
       "      <td>Agnes</td>\n",
       "      <td>아그네스</td>\n",
       "      <td>https://acnhcdn.com/latest/NpcIcon/pig17.png</td>\n",
       "      <td>Pig</td>\n",
       "      <td>Female</td>\n",
       "      <td>04-21</td>\n",
       "      <td>4</td>\n",
       "      <td>21</td>\n",
       "      <td>단순 활발</td>\n",
       "      <td>놀이</td>\n",
       "      <td>[심플, 엘레강스]</td>\n",
       "      <td>[하양색, 핑크색]</td>\n",
       "    </tr>\n",
       "    <tr>\n",
       "      <th>3</th>\n",
       "      <td>al</td>\n",
       "      <td>Al</td>\n",
       "      <td>우락</td>\n",
       "      <td>https://acnhcdn.com/latest/NpcIcon/gor08.png</td>\n",
       "      <td>Gorilla</td>\n",
       "      <td>Male</td>\n",
       "      <td>10-18</td>\n",
       "      <td>10</td>\n",
       "      <td>18</td>\n",
       "      <td>먹보</td>\n",
       "      <td>운동</td>\n",
       "      <td>[액티브]</td>\n",
       "      <td>[하양색, 빨강색]</td>\n",
       "    </tr>\n",
       "    <tr>\n",
       "      <th>4</th>\n",
       "      <td>alfonso</td>\n",
       "      <td>Alfonso</td>\n",
       "      <td>알베르트</td>\n",
       "      <td>https://acnhcdn.com/latest/NpcIcon/crd00.png</td>\n",
       "      <td>Alligator</td>\n",
       "      <td>Male</td>\n",
       "      <td>06-09</td>\n",
       "      <td>6</td>\n",
       "      <td>9</td>\n",
       "      <td>먹보</td>\n",
       "      <td>놀이</td>\n",
       "      <td>[심플]</td>\n",
       "      <td>[빨강색, 파랑색]</td>\n",
       "    </tr>\n",
       "  </tbody>\n",
       "</table>\n",
       "</div>"
      ],
      "text/plain": [
       "        id  name_en name_ko                                    image_icon  \\\n",
       "0  admiral  Admiral      일섭  https://acnhcdn.com/latest/NpcIcon/brd06.png   \n",
       "1   agents  Agent S      2호  https://acnhcdn.com/latest/NpcIcon/squ05.png   \n",
       "2    agnes    Agnes    아그네스  https://acnhcdn.com/latest/NpcIcon/pig17.png   \n",
       "3       al       Al      우락  https://acnhcdn.com/latest/NpcIcon/gor08.png   \n",
       "4  alfonso  Alfonso    알베르트  https://acnhcdn.com/latest/NpcIcon/crd00.png   \n",
       "\n",
       "     species  gender birthday  birthday_month  birthday_day personality hobby  \\\n",
       "0       Bird    Male    01-27               1            27         무뚝뚝    자연   \n",
       "1   Squirrel  Female    07-02               7             2         아이돌    운동   \n",
       "2        Pig  Female    04-21               4            21       단순 활발    놀이   \n",
       "3    Gorilla    Male    10-18              10            18          먹보    운동   \n",
       "4  Alligator    Male    06-09               6             9          먹보    놀이   \n",
       "\n",
       "       styles      colors  \n",
       "0         [쿨]  [검정색, 파랑색]  \n",
       "1   [심플, 액티브]  [검정색, 파랑색]  \n",
       "2  [심플, 엘레강스]  [하양색, 핑크색]  \n",
       "3       [액티브]  [하양색, 빨강색]  \n",
       "4        [심플]  [빨강색, 파랑색]  "
      ]
     },
     "execution_count": 53,
     "metadata": {},
     "output_type": "execute_result"
    }
   ],
   "source": [
    "chars.head()"
   ]
  },
  {
   "cell_type": "markdown",
   "metadata": {},
   "source": [
    "`species`, `gender`, `birthday_x` 열은 버려도 될 것 같습니다."
   ]
  },
  {
   "cell_type": "code",
   "execution_count": 55,
   "metadata": {},
   "outputs": [
    {
     "name": "stdout",
     "output_type": "stream",
     "text": [
      "<class 'pandas.core.frame.DataFrame'>\n",
      "RangeIndex: 391 entries, 0 to 390\n",
      "Data columns (total 11 columns):\n",
      " #   Column          Non-Null Count  Dtype \n",
      "---  ------          --------------  ----- \n",
      " 0   id              390 non-null    object\n",
      " 1   name_en         391 non-null    object\n",
      " 2   name_ko         391 non-null    object\n",
      " 3   image_icon      391 non-null    object\n",
      " 4   birthday        391 non-null    object\n",
      " 5   birthday_month  391 non-null    int64 \n",
      " 6   birthday_day    391 non-null    int64 \n",
      " 7   personality     391 non-null    object\n",
      " 8   hobby           391 non-null    object\n",
      " 9   styles          391 non-null    object\n",
      " 10  colors          391 non-null    object\n",
      "dtypes: int64(2), object(9)\n",
      "memory usage: 33.7+ KB\n"
     ]
    }
   ],
   "source": [
    "chars = chars.drop(columns=['species', 'gender'])\n",
    "chars.info()"
   ]
  },
  {
   "cell_type": "code",
   "execution_count": 7,
   "metadata": {},
   "outputs": [
    {
     "data": {
      "text/html": [
       "<div>\n",
       "<style scoped>\n",
       "    .dataframe tbody tr th:only-of-type {\n",
       "        vertical-align: middle;\n",
       "    }\n",
       "\n",
       "    .dataframe tbody tr th {\n",
       "        vertical-align: top;\n",
       "    }\n",
       "\n",
       "    .dataframe thead th {\n",
       "        text-align: right;\n",
       "    }\n",
       "</style>\n",
       "<table border=\"1\" class=\"dataframe\">\n",
       "  <thead>\n",
       "    <tr style=\"text-align: right;\">\n",
       "      <th></th>\n",
       "      <th>id</th>\n",
       "      <th>birthday</th>\n",
       "      <th>hobby</th>\n",
       "      <th>personality</th>\n",
       "      <th>styles</th>\n",
       "      <th>colors</th>\n",
       "    </tr>\n",
       "  </thead>\n",
       "  <tbody>\n",
       "  </tbody>\n",
       "</table>\n",
       "</div>"
      ],
      "text/plain": [
       "Empty DataFrame\n",
       "Columns: [id, birthday, hobby, personality, styles, colors]\n",
       "Index: []"
      ]
     },
     "execution_count": 7,
     "metadata": {},
     "output_type": "execute_result"
    }
   ],
   "source": [
    "# sims = pd.DataFrame(columns=chars['id'])\n",
    "vectors = pd.DataFrame(\n",
    "  columns=['id', 'birthday', 'hobby', 'personality', 'styles', 'colors']\n",
    ")\n",
    "vectors.head()"
   ]
  },
  {
   "cell_type": "code",
   "execution_count": 19,
   "metadata": {},
   "outputs": [
    {
     "name": "stdout",
     "output_type": "stream",
     "text": [
      "id                                                     admiral\n",
      "name_en                                                Admiral\n",
      "name_ko                                                     일섭\n",
      "image_icon        https://acnhcdn.com/latest/NpcIcon/brd06.png\n",
      "species                                                   Bird\n",
      "gender                                                    Male\n",
      "birthday                                                 01-27\n",
      "birthday_month                                               1\n",
      "birthday_day                                                27\n",
      "personality                                                무뚝뚝\n",
      "hobby                                                       자연\n",
      "styles                                                     [쿨]\n",
      "colors                                              [검정색, 파랑색]\n",
      "Name: 0, dtype: object\n"
     ]
    }
   ],
   "source": [
    "REF = chars.iloc[0]\n",
    "print(REF)"
   ]
  },
  {
   "cell_type": "code",
   "execution_count": 21,
   "metadata": {},
   "outputs": [],
   "source": [
    "# for row in chars.itertuples(index=False, name='char'):\n",
    "  # print(row['id'])\n",
    "TODAY_YEAR = datetime.date.today().year\n",
    "TODAY_LEAP = calendar.isleap(TODAY_YEAR)\n",
    "DAY_MOD = 183.0 if TODAY_LEAP else 182.5\n",
    "\n",
    "def compare_simple(a, b):\n",
    "  return 0.0 if a == b else 1.0\n",
    "\n",
    "def compare_set(a, b):\n",
    "  i = set(a) & set(b)\n",
    "  return 1.0 - len(i)/2.0\n",
    "\n",
    "def to_yday(m: int, d: int) -> int:\n",
    "  datetime.date(TODAY_YEAR, m, d).timetuple().tm_yday\n",
    "  \n",
    "def compare_yday(a: tuple, b: tuple):\n",
    "  a = to_yday(*a)\n",
    "  b = to_yday(*b)\n",
    "  delta = abs(a - b)\n",
    "  if delta < DAY_MOD:\n",
    "    result = abs(delta)\n",
    "  else:\n",
    "    result = DAY_MOD*2 - delta\n",
    "  return result / DAY_MOD / 2\n",
    "\n",
    "compare_hobby = partial(compare_simple, REF.hobby)\n",
    "compare_personality = partial(compare_simple, REF.personality)\n",
    "compare_colors = partial(compare_set, REF.colors)\n",
    "compare_styles = partial(compare_set, REF.styles)\n",
    "compare_birthday = partial(compare_yday, (REF.birthday_month, REF.birthday_day))\n"
   ]
  },
  {
   "cell_type": "markdown",
   "metadata": {},
   "source": [
    "이제 한번 돌려봅니다."
   ]
  },
  {
   "cell_type": "markdown",
   "metadata": {},
   "source": [
    "하지만 그전에 df 연습;"
   ]
  },
  {
   "cell_type": "code",
   "execution_count": 17,
   "metadata": {},
   "outputs": [
    {
     "data": {
      "text/html": [
       "<div>\n",
       "<style scoped>\n",
       "    .dataframe tbody tr th:only-of-type {\n",
       "        vertical-align: middle;\n",
       "    }\n",
       "\n",
       "    .dataframe tbody tr th {\n",
       "        vertical-align: top;\n",
       "    }\n",
       "\n",
       "    .dataframe thead th {\n",
       "        text-align: right;\n",
       "    }\n",
       "</style>\n",
       "<table border=\"1\" class=\"dataframe\">\n",
       "  <thead>\n",
       "    <tr style=\"text-align: right;\">\n",
       "      <th></th>\n",
       "      <th>a</th>\n",
       "      <th>b</th>\n",
       "      <th>c</th>\n",
       "    </tr>\n",
       "  </thead>\n",
       "  <tbody>\n",
       "    <tr>\n",
       "      <th>0</th>\n",
       "      <td>1</td>\n",
       "      <td>4</td>\n",
       "      <td>7</td>\n",
       "    </tr>\n",
       "    <tr>\n",
       "      <th>1</th>\n",
       "      <td>2</td>\n",
       "      <td>5</td>\n",
       "      <td>8</td>\n",
       "    </tr>\n",
       "    <tr>\n",
       "      <th>2</th>\n",
       "      <td>3</td>\n",
       "      <td>6</td>\n",
       "      <td>9</td>\n",
       "    </tr>\n",
       "    <tr>\n",
       "      <th>3</th>\n",
       "      <td>4</td>\n",
       "      <td>7</td>\n",
       "      <td>10</td>\n",
       "    </tr>\n",
       "  </tbody>\n",
       "</table>\n",
       "</div>"
      ],
      "text/plain": [
       "   a  b   c\n",
       "0  1  4   7\n",
       "1  2  5   8\n",
       "2  3  6   9\n",
       "3  4  7  10"
      ]
     },
     "execution_count": 17,
     "metadata": {},
     "output_type": "execute_result"
    }
   ],
   "source": [
    "df = pd.DataFrame({'a': [1, 2, 3], 'b': [4, 5, 6], 'c': [7, 8, 9]})\n",
    "df.loc[len(df)] = [4, 7, 10]\n",
    "df"
   ]
  }
 ],
 "metadata": {
  "interpreter": {
   "hash": "6a28367f67cdc883bf0651ab926a45cdaf5821f65ab5104ac3f819fe9582a76b"
  },
  "kernelspec": {
   "display_name": "Python 3.10.2 ('.venv': venv)",
   "language": "python",
   "name": "python3"
  },
  "language_info": {
   "codemirror_mode": {
    "name": "ipython",
    "version": 3
   },
   "file_extension": ".py",
   "mimetype": "text/x-python",
   "name": "python",
   "nbconvert_exporter": "python",
   "pygments_lexer": "ipython3",
   "version": "3.10.2"
  },
  "orig_nbformat": 4
 },
 "nbformat": 4,
 "nbformat_minor": 2
}
