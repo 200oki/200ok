{
 "cells": [
  {
   "cell_type": "markdown",
   "metadata": {},
   "source": [
    "## 마을 주민 이름이 전부 꼬부랑어라 불편하다\n",
    "\n",
    "고치자\n"
   ]
  },
  {
   "cell_type": "code",
   "execution_count": 7,
   "metadata": {},
   "outputs": [],
   "source": [
    "from os import path\n",
    "import os\n",
    "from pprint import pprint\n",
    "\n",
    "\n",
    "import pandas as pd\n",
    "import numpy as np\n"
   ]
  },
  {
   "cell_type": "markdown",
   "metadata": {},
   "source": [
    "일단 마을 주민 파일을 다 간을 봅니다.\n"
   ]
  },
  {
   "cell_type": "code",
   "execution_count": 11,
   "metadata": {},
   "outputs": [
    {
     "name": "stdout",
     "output_type": "stream",
     "text": [
      "<class 'pandas.core.frame.DataFrame'>\n",
      "RangeIndex: 391 entries, 0 to 390\n",
      "Data columns (total 24 columns):\n",
      " #   Column               Non-Null Count  Dtype  \n",
      "---  ------               --------------  -----  \n",
      " 0   Name                 391 non-null    object \n",
      " 1   Icon Image           391 non-null    object \n",
      " 2   Photo Image          391 non-null    object \n",
      " 3   House Image          391 non-null    object \n",
      " 4   Species              391 non-null    object \n",
      " 5   Gender               391 non-null    object \n",
      " 6   Personality          391 non-null    object \n",
      " 7   Subtype              391 non-null    object \n",
      " 8   Hobby                391 non-null    object \n",
      " 9   Birthday             391 non-null    object \n",
      " 10  Catchphrase          391 non-null    object \n",
      " 11  Favorite Song        391 non-null    object \n",
      " 12  Favorite Saying      391 non-null    object \n",
      " 13  Style 1              391 non-null    object \n",
      " 14  Style 2              391 non-null    object \n",
      " 15  Color 1              391 non-null    object \n",
      " 16  Color 2              391 non-null    object \n",
      " 17  Default Clothing     391 non-null    float64\n",
      " 18  Wallpaper            391 non-null    object \n",
      " 19  Flooring             391 non-null    object \n",
      " 20  Furniture List       391 non-null    object \n",
      " 21  Furniture Name List  391 non-null    object \n",
      " 22  Filename             391 non-null    object \n",
      " 23  Unique Entry ID      391 non-null    object \n",
      "dtypes: float64(1), object(23)\n",
      "memory usage: 73.4+ KB\n",
      "<class 'pandas.core.frame.DataFrame'>\n",
      "RangeIndex: 391 entries, 0 to 390\n",
      "Data columns (total 17 columns):\n",
      " #   Column           Non-Null Count  Dtype \n",
      "---  ------           --------------  ----- \n",
      " 0   Name             391 non-null    object\n",
      " 1   Species          391 non-null    object\n",
      " 2   Gender           391 non-null    object\n",
      " 3   Personality      391 non-null    object\n",
      " 4   Hobby            391 non-null    object\n",
      " 5   Birthday         391 non-null    object\n",
      " 6   Catchphrase      391 non-null    object\n",
      " 7   Favorite Song    391 non-null    object\n",
      " 8   Style 1          391 non-null    object\n",
      " 9   Style 2          391 non-null    object\n",
      " 10  Color 1          391 non-null    object\n",
      " 11  Color 2          391 non-null    object\n",
      " 12  Wallpaper        391 non-null    object\n",
      " 13  Flooring         391 non-null    object\n",
      " 14  Furniture List   391 non-null    object\n",
      " 15  Filename         391 non-null    object\n",
      " 16  Unique Entry ID  391 non-null    object\n",
      "dtypes: object(17)\n",
      "memory usage: 52.1+ KB\n"
     ]
    }
   ],
   "source": [
    "df = pd.read_csv('./datasets/acnh/villagers.csv')\n",
    "dfc = pd.read_csv('./datasets/acnh-catalog/villagers.csv')\n",
    "\n",
    "df.info()\n",
    "dfc.info()"
   ]
  },
  {
   "cell_type": "code",
   "execution_count": 31,
   "metadata": {},
   "outputs": [
    {
     "name": "stdout",
     "output_type": "stream",
     "text": [
      "Renée\n",
      "Renée\n"
     ]
    }
   ],
   "source": [
    "print(df.iloc[299]['Name'])\n",
    "print(dfc.iloc[299]['Name'])\n"
   ]
  },
  {
   "cell_type": "markdown",
   "metadata": {},
   "source": [
    "서로 다른 칼럼을 알아봅니다."
   ]
  },
  {
   "cell_type": "code",
   "execution_count": 33,
   "metadata": {},
   "outputs": [
    {
     "name": "stdout",
     "output_type": "stream",
     "text": [
      "symdiff\n",
      "{'Photo Image', 'Default Clothing', 'Subtype', 'Furniture Name List', 'Icon Image', 'House Image', 'Favorite Saying'}\n",
      "df - dfc\n",
      "{'Photo Image', 'Default Clothing', 'Icon Image', 'House Image', 'Subtype', 'Furniture Name List', 'Favorite Saying'}\n",
      "dfc - df\n",
      "set()\n"
     ]
    }
   ],
   "source": [
    "df_cols = set(df.columns)\n",
    "dfc_cols = set(dfc.columns)\n",
    "\n",
    "print('symdiff')\n",
    "print(df_cols ^ dfc_cols)\n",
    "\n",
    "print('df - dfc')\n",
    "print(df_cols - dfc_cols)\n",
    "\n",
    "print('dfc - df')\n",
    "print(dfc_cols - df_cols)\n"
   ]
  },
  {
   "cell_type": "markdown",
   "metadata": {},
   "source": [
    "서로 순서가 같다는 것이 아까 밝혀졌으므로 서로 합치기가 쉬울 것 같습니다.\n",
    "\n",
    "생각해보니 그보다는 `dfc`는 아예 필요가 없을 것 같기도 합니다.\n",
    "\n",
    "koname.txt 를 번역 사전으로 만들어 봅니다."
   ]
  },
  {
   "cell_type": "code",
   "execution_count": 47,
   "metadata": {},
   "outputs": [
    {
     "name": "stdout",
     "output_type": "stream",
     "text": [
      "<class 'pandas.core.frame.DataFrame'>\n",
      "RangeIndex: 463 entries, 0 to 462\n",
      "Data columns (total 3 columns):\n",
      " #   Column  Non-Null Count  Dtype \n",
      "---  ------  --------------  ----- \n",
      " 0   id      463 non-null    object\n",
      " 1   en      463 non-null    object\n",
      " 2   ko      463 non-null    object\n",
      "dtypes: object(3)\n",
      "memory usage: 11.0+ KB\n",
      "     id      en       ko\n",
      "0   alp   Cyrus       리포\n",
      "1   dga  Copper      경찰관\n",
      "2   doc  Wilbur      로드리\n",
      "3  tkkB   DJ KK  DJ K.K.\n",
      "4   dgb  Booker      경찰관\n",
      "num names: 463\n"
     ]
    }
   ],
   "source": [
    "names = pd.read_csv('./datasets/koname.txt', delimiter='\\t')\n",
    "names.info()\n",
    "print(names.head())\n",
    "trans = dict(zip(names['en'], names['ko']))\n",
    "\n",
    "print('num names:', len(trans))\n",
    "\n",
    "# for n in sorted(trans):\n",
    "#     print(n)\n"
   ]
  },
  {
   "cell_type": "markdown",
   "metadata": {},
   "source": []
  }
 ],
 "metadata": {
  "interpreter": {
   "hash": "6a28367f67cdc883bf0651ab926a45cdaf5821f65ab5104ac3f819fe9582a76b"
  },
  "kernelspec": {
   "display_name": "Python 3.10.2 ('.venv': venv)",
   "language": "python",
   "name": "python3"
  },
  "language_info": {
   "codemirror_mode": {
    "name": "ipython",
    "version": 3
   },
   "file_extension": ".py",
   "mimetype": "text/x-python",
   "name": "python",
   "nbconvert_exporter": "python",
   "pygments_lexer": "ipython3",
   "version": "3.10.2"
  },
  "orig_nbformat": 4
 },
 "nbformat": 4,
 "nbformat_minor": 2
}
