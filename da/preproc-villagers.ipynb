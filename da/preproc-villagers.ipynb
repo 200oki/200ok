{
 "cells": [
  {
   "cell_type": "markdown",
   "metadata": {},
   "source": [
    "## 마을 주민 이름이 전부 꼬부랑어라 불편하다\n",
    "\n",
    "고치자\n"
   ]
  },
  {
   "cell_type": "code",
   "execution_count": 3,
   "metadata": {},
   "outputs": [],
   "source": [
    "from os import path\n",
    "import os\n",
    "from pprint import pprint\n",
    "\n",
    "\n",
    "import pandas as pd\n",
    "import numpy as np\n"
   ]
  },
  {
   "cell_type": "markdown",
   "metadata": {},
   "source": [
    "일단 마을 주민 파일을 다 간을 봅니다.\n"
   ]
  },
  {
   "cell_type": "code",
   "execution_count": 4,
   "metadata": {},
   "outputs": [
    {
     "name": "stdout",
     "output_type": "stream",
     "text": [
      "<class 'pandas.core.frame.DataFrame'>\n",
      "RangeIndex: 391 entries, 0 to 390\n",
      "Data columns (total 24 columns):\n",
      " #   Column               Non-Null Count  Dtype  \n",
      "---  ------               --------------  -----  \n",
      " 0   Name                 391 non-null    object \n",
      " 1   Icon Image           391 non-null    object \n",
      " 2   Photo Image          391 non-null    object \n",
      " 3   House Image          391 non-null    object \n",
      " 4   Species              391 non-null    object \n",
      " 5   Gender               391 non-null    object \n",
      " 6   Personality          391 non-null    object \n",
      " 7   Subtype              391 non-null    object \n",
      " 8   Hobby                391 non-null    object \n",
      " 9   Birthday             391 non-null    object \n",
      " 10  Catchphrase          391 non-null    object \n",
      " 11  Favorite Song        391 non-null    object \n",
      " 12  Favorite Saying      391 non-null    object \n",
      " 13  Style 1              391 non-null    object \n",
      " 14  Style 2              391 non-null    object \n",
      " 15  Color 1              391 non-null    object \n",
      " 16  Color 2              391 non-null    object \n",
      " 17  Default Clothing     391 non-null    float64\n",
      " 18  Wallpaper            391 non-null    object \n",
      " 19  Flooring             391 non-null    object \n",
      " 20  Furniture List       391 non-null    object \n",
      " 21  Furniture Name List  391 non-null    object \n",
      " 22  Filename             391 non-null    object \n",
      " 23  Unique Entry ID      391 non-null    object \n",
      "dtypes: float64(1), object(23)\n",
      "memory usage: 73.4+ KB\n",
      "<class 'pandas.core.frame.DataFrame'>\n",
      "RangeIndex: 391 entries, 0 to 390\n",
      "Data columns (total 17 columns):\n",
      " #   Column           Non-Null Count  Dtype \n",
      "---  ------           --------------  ----- \n",
      " 0   Name             391 non-null    object\n",
      " 1   Species          391 non-null    object\n",
      " 2   Gender           391 non-null    object\n",
      " 3   Personality      391 non-null    object\n",
      " 4   Hobby            391 non-null    object\n",
      " 5   Birthday         391 non-null    object\n",
      " 6   Catchphrase      391 non-null    object\n",
      " 7   Favorite Song    391 non-null    object\n",
      " 8   Style 1          391 non-null    object\n",
      " 9   Style 2          391 non-null    object\n",
      " 10  Color 1          391 non-null    object\n",
      " 11  Color 2          391 non-null    object\n",
      " 12  Wallpaper        391 non-null    object\n",
      " 13  Flooring         391 non-null    object\n",
      " 14  Furniture List   391 non-null    object\n",
      " 15  Filename         391 non-null    object\n",
      " 16  Unique Entry ID  391 non-null    object\n",
      "dtypes: object(17)\n",
      "memory usage: 52.1+ KB\n"
     ]
    }
   ],
   "source": [
    "df = pd.read_csv('./datasets/acnh/villagers.csv')\n",
    "dfc = pd.read_csv('./datasets/acnh-catalog/villagers.csv')\n",
    "\n",
    "df.info()\n",
    "dfc.info()"
   ]
  },
  {
   "cell_type": "code",
   "execution_count": 5,
   "metadata": {},
   "outputs": [
    {
     "name": "stdout",
     "output_type": "stream",
     "text": [
      "Renée\n",
      "Renée\n"
     ]
    }
   ],
   "source": [
    "print(df.iloc[299]['Name'])\n",
    "print(dfc.iloc[299]['Name'])\n"
   ]
  },
  {
   "cell_type": "markdown",
   "metadata": {},
   "source": [
    "서로 다른 칼럼을 알아봅니다."
   ]
  },
  {
   "cell_type": "code",
   "execution_count": 6,
   "metadata": {},
   "outputs": [
    {
     "name": "stdout",
     "output_type": "stream",
     "text": [
      "symdiff\n",
      "{'Default Clothing', 'Subtype', 'Icon Image', 'House Image', 'Favorite Saying', 'Furniture Name List', 'Photo Image'}\n",
      "df - dfc\n",
      "{'Default Clothing', 'Subtype', 'Icon Image', 'House Image', 'Favorite Saying', 'Furniture Name List', 'Photo Image'}\n",
      "dfc - df\n",
      "set()\n"
     ]
    }
   ],
   "source": [
    "df_cols = set(df.columns)\n",
    "dfc_cols = set(dfc.columns)\n",
    "\n",
    "print('symdiff')\n",
    "print(df_cols ^ dfc_cols)\n",
    "\n",
    "print('df - dfc')\n",
    "print(df_cols - dfc_cols)\n",
    "\n",
    "print('dfc - df')\n",
    "print(dfc_cols - df_cols)\n"
   ]
  },
  {
   "cell_type": "markdown",
   "metadata": {},
   "source": [
    "서로 순서가 같다는 것이 아까 밝혀졌으므로 서로 합치기가 쉬울 것 같습니다.\n",
    "\n",
    "생각해보니 그보다는 `dfc`는 아예 필요가 없을 것 같기도 합니다.\n",
    "\n",
    "koname.txt 를 번역 사전으로 만들어 봅니다."
   ]
  },
  {
   "cell_type": "code",
   "execution_count": 7,
   "metadata": {},
   "outputs": [
    {
     "name": "stdout",
     "output_type": "stream",
     "text": [
      "<class 'pandas.core.frame.DataFrame'>\n",
      "RangeIndex: 463 entries, 0 to 462\n",
      "Data columns (total 3 columns):\n",
      " #   Column  Non-Null Count  Dtype \n",
      "---  ------  --------------  ----- \n",
      " 0   id      463 non-null    object\n",
      " 1   en      463 non-null    object\n",
      " 2   ko      463 non-null    object\n",
      "dtypes: object(3)\n",
      "memory usage: 11.0+ KB\n",
      "     id      en       ko\n",
      "0   alp   Cyrus       리포\n",
      "1   dga  Copper      경찰관\n",
      "2   doc  Wilbur      로드리\n",
      "3  tkkB   DJ KK  DJ K.K.\n",
      "4   dgb  Booker      경찰관\n",
      "num names: 463\n"
     ]
    }
   ],
   "source": [
    "names = pd.read_csv('./datasets/koname.txt', delimiter='\\t')\n",
    "names.info()\n",
    "print(names.head())\n",
    "trans = dict(zip(names['en'], names['ko']))\n",
    "\n",
    "print('num names:', len(trans))\n",
    "\n",
    "# for n in sorted(trans):\n",
    "#     print(n)\n"
   ]
  },
  {
   "cell_type": "markdown",
   "metadata": {},
   "source": [
    "이름 사전으로 새 열을 만들어 봅니다."
   ]
  },
  {
   "cell_type": "code",
   "execution_count": 15,
   "metadata": {},
   "outputs": [
    {
     "name": "stdout",
     "output_type": "stream",
     "text": [
      "0      일섭\n",
      "1      2호\n",
      "2    아그네스\n",
      "3      우락\n",
      "4    알베르트\n",
      "Name: Korean Name, dtype: object\n",
      "<class 'pandas.core.frame.DataFrame'>\n",
      "RangeIndex: 391 entries, 0 to 390\n",
      "Data columns (total 25 columns):\n",
      " #   Column               Non-Null Count  Dtype  \n",
      "---  ------               --------------  -----  \n",
      " 0   Name                 391 non-null    object \n",
      " 1   Icon Image           391 non-null    object \n",
      " 2   Photo Image          391 non-null    object \n",
      " 3   House Image          391 non-null    object \n",
      " 4   Species              391 non-null    object \n",
      " 5   Gender               391 non-null    object \n",
      " 6   Personality          391 non-null    object \n",
      " 7   Subtype              391 non-null    object \n",
      " 8   Hobby                391 non-null    object \n",
      " 9   Birthday             391 non-null    object \n",
      " 10  Catchphrase          391 non-null    object \n",
      " 11  Favorite Song        391 non-null    object \n",
      " 12  Favorite Saying      391 non-null    object \n",
      " 13  Style 1              391 non-null    object \n",
      " 14  Style 2              391 non-null    object \n",
      " 15  Color 1              391 non-null    object \n",
      " 16  Color 2              391 non-null    object \n",
      " 17  Default Clothing     391 non-null    float64\n",
      " 18  Wallpaper            391 non-null    object \n",
      " 19  Flooring             391 non-null    object \n",
      " 20  Furniture List       391 non-null    object \n",
      " 21  Furniture Name List  391 non-null    object \n",
      " 22  Filename             391 non-null    object \n",
      " 23  Unique Entry ID      391 non-null    object \n",
      " 24  Korean Name          391 non-null    object \n",
      "dtypes: float64(1), object(24)\n",
      "memory usage: 76.5+ KB\n"
     ]
    }
   ],
   "source": [
    "df['Korean Name'] = df['Name'].copy()\n",
    "df['Korean Name'] = df['Korean Name'].apply(lambda v: trans.get(v))\n",
    "print(df['Korean Name'].head())\n",
    "df.info()\n"
   ]
  },
  {
   "cell_type": "markdown",
   "metadata": {},
   "source": [
    "이름을 바꾼 마을 주민을 저장해 놓습니다.\n",
    "기왕 하는거 엑셀이면 더 좋을 것 같습니다."
   ]
  },
  {
   "cell_type": "code",
   "execution_count": 17,
   "metadata": {},
   "outputs": [],
   "source": [
    "df.to_excel('./datasets/villagers.xlsx')"
   ]
  },
  {
   "cell_type": "markdown",
   "metadata": {},
   "source": [
    "special npc 도 주민과 나름 비슷하므로 지금 처리할 수 있나 봐야 할 것 같습니다. "
   ]
  },
  {
   "cell_type": "code",
   "execution_count": 53,
   "metadata": {},
   "outputs": [
    {
     "name": "stdout",
     "output_type": "stream",
     "text": [
      "<class 'pandas.core.frame.DataFrame'>\n",
      "RangeIndex: 63 entries, 0 to 62\n",
      "Data columns (total 10 columns):\n",
      " #   Column           Non-Null Count  Dtype  \n",
      "---  ------           --------------  -----  \n",
      " 0   Name             63 non-null     object \n",
      " 1   Icon Image       22 non-null     object \n",
      " 2   Photo Image      54 non-null     object \n",
      " 3   Gender           63 non-null     object \n",
      " 4   Gender (Asia)    63 non-null     object \n",
      " 5   Version Added    29 non-null     object \n",
      " 6   NPC ID           63 non-null     object \n",
      " 7   Internal ID      63 non-null     float64\n",
      " 8   Birthday         63 non-null     object \n",
      " 9   Unique Entry ID  63 non-null     object \n",
      "dtypes: float64(1), object(9)\n",
      "memory usage: 5.0+ KB\n"
     ]
    },
    {
     "data": {
      "text/html": [
       "<div>\n",
       "<style scoped>\n",
       "    .dataframe tbody tr th:only-of-type {\n",
       "        vertical-align: middle;\n",
       "    }\n",
       "\n",
       "    .dataframe tbody tr th {\n",
       "        vertical-align: top;\n",
       "    }\n",
       "\n",
       "    .dataframe thead th {\n",
       "        text-align: right;\n",
       "    }\n",
       "</style>\n",
       "<table border=\"1\" class=\"dataframe\">\n",
       "  <thead>\n",
       "    <tr style=\"text-align: right;\">\n",
       "      <th></th>\n",
       "      <th>Name</th>\n",
       "      <th>Icon Image</th>\n",
       "      <th>Photo Image</th>\n",
       "      <th>Gender</th>\n",
       "      <th>Gender (Asia)</th>\n",
       "      <th>Version Added</th>\n",
       "      <th>NPC ID</th>\n",
       "      <th>Internal ID</th>\n",
       "      <th>Birthday</th>\n",
       "      <th>Unique Entry ID</th>\n",
       "    </tr>\n",
       "  </thead>\n",
       "  <tbody>\n",
       "    <tr>\n",
       "      <th>0</th>\n",
       "      <td>Cyrus</td>\n",
       "      <td>https://acnhcdn.com/latest/NpcIcon/alp.png</td>\n",
       "      <td>https://acnhcdn.com/latest/NpcPoster/NpcSpAlp.png</td>\n",
       "      <td>Male</td>\n",
       "      <td>Male</td>\n",
       "      <td>1.2.0</td>\n",
       "      <td>alp</td>\n",
       "      <td>0.0</td>\n",
       "      <td>1/26</td>\n",
       "      <td>yJQuzNGtgcSbWw47g</td>\n",
       "    </tr>\n",
       "    <tr>\n",
       "      <th>1</th>\n",
       "      <td>Reese</td>\n",
       "      <td>https://acnhcdn.com/latest/NpcIcon/alw.png</td>\n",
       "      <td>https://acnhcdn.com/latest/NpcPoster/NpcSpAlw.png</td>\n",
       "      <td>Female</td>\n",
       "      <td>Female</td>\n",
       "      <td>1.2.0</td>\n",
       "      <td>alw</td>\n",
       "      <td>1.0</td>\n",
       "      <td>7/5</td>\n",
       "      <td>MKLPGvYfpDwWCEWQ7</td>\n",
       "    </tr>\n",
       "    <tr>\n",
       "      <th>2</th>\n",
       "      <td>Chip</td>\n",
       "      <td>NaN</td>\n",
       "      <td>https://acnhcdn.com/latest/NpcPoster/NpcSpBev.png</td>\n",
       "      <td>Male</td>\n",
       "      <td>Male</td>\n",
       "      <td>NaN</td>\n",
       "      <td>bev</td>\n",
       "      <td>2.0</td>\n",
       "      <td>12/9</td>\n",
       "      <td>XGGxy4Wx86EDDH57S</td>\n",
       "    </tr>\n",
       "    <tr>\n",
       "      <th>3</th>\n",
       "      <td>C.J.</td>\n",
       "      <td>NaN</td>\n",
       "      <td>NaN</td>\n",
       "      <td>Male</td>\n",
       "      <td>Male</td>\n",
       "      <td>1.0.0</td>\n",
       "      <td>bey</td>\n",
       "      <td>59.0</td>\n",
       "      <td>3/7</td>\n",
       "      <td>ztkxCvQbcCJYQEgJ7</td>\n",
       "    </tr>\n",
       "    <tr>\n",
       "      <th>4</th>\n",
       "      <td>Joan</td>\n",
       "      <td>NaN</td>\n",
       "      <td>https://acnhcdn.com/latest/NpcPoster/NpcSpBoa.png</td>\n",
       "      <td>Female</td>\n",
       "      <td>Female</td>\n",
       "      <td>NaN</td>\n",
       "      <td>boa</td>\n",
       "      <td>4.0</td>\n",
       "      <td>1/8</td>\n",
       "      <td>g489RXNAdbSB7Jdtf</td>\n",
       "    </tr>\n",
       "  </tbody>\n",
       "</table>\n",
       "</div>"
      ],
      "text/plain": [
       "    Name                                  Icon Image  \\\n",
       "0  Cyrus  https://acnhcdn.com/latest/NpcIcon/alp.png   \n",
       "1  Reese  https://acnhcdn.com/latest/NpcIcon/alw.png   \n",
       "2   Chip                                         NaN   \n",
       "3   C.J.                                         NaN   \n",
       "4   Joan                                         NaN   \n",
       "\n",
       "                                         Photo Image  Gender Gender (Asia)  \\\n",
       "0  https://acnhcdn.com/latest/NpcPoster/NpcSpAlp.png    Male          Male   \n",
       "1  https://acnhcdn.com/latest/NpcPoster/NpcSpAlw.png  Female        Female   \n",
       "2  https://acnhcdn.com/latest/NpcPoster/NpcSpBev.png    Male          Male   \n",
       "3                                                NaN    Male          Male   \n",
       "4  https://acnhcdn.com/latest/NpcPoster/NpcSpBoa.png  Female        Female   \n",
       "\n",
       "  Version Added NPC ID  Internal ID Birthday    Unique Entry ID  \n",
       "0         1.2.0    alp          0.0     1/26  yJQuzNGtgcSbWw47g  \n",
       "1         1.2.0    alw          1.0      7/5  MKLPGvYfpDwWCEWQ7  \n",
       "2           NaN    bev          2.0     12/9  XGGxy4Wx86EDDH57S  \n",
       "3         1.0.0    bey         59.0      3/7  ztkxCvQbcCJYQEgJ7  \n",
       "4           NaN    boa          4.0      1/8  g489RXNAdbSB7Jdtf  "
      ]
     },
     "execution_count": 53,
     "metadata": {},
     "output_type": "execute_result"
    }
   ],
   "source": [
    "npcs = pd.read_csv('./datasets/acnh/special npcs.csv')\n",
    "npcs.info()\n",
    "npcs.head()"
   ]
  },
  {
   "cell_type": "markdown",
   "metadata": {},
   "source": [
    "Gender 와 Gender (Asia) 가 따로 있는게 뭔가 엄청 신경쓰인다!"
   ]
  },
  {
   "cell_type": "code",
   "execution_count": 54,
   "metadata": {},
   "outputs": [
    {
     "name": "stdout",
     "output_type": "stream",
     "text": [
      "       Name                                  Icon Image  \\\n",
      "9   Saharah  https://acnhcdn.com/latest/NpcIcon/cml.png   \n",
      "16   Gracie                                         NaN   \n",
      "29   Blanca                                         NaN   \n",
      "\n",
      "                                          Photo Image  Gender Gender (Asia)  \\\n",
      "9   https://acnhcdn.com/latest/NpcBromide/NpcSpCml...  Female          Male   \n",
      "16  https://acnhcdn.com/latest/NpcPoster/NpcSpGrf.png  Female          Male   \n",
      "29  https://acnhcdn.com/latest/NpcPoster/NpcSpMka.png  Female          Male   \n",
      "\n",
      "   Version Added NPC ID  Internal ID Birthday    Unique Entry ID  \n",
      "9          1.0.0    cml          7.0    11/10  x753Z7JdmLFZRCwGr  \n",
      "16           NaN    grf         10.0    11/14  chZz2xBGZBy2g9L8e  \n",
      "29           NaN    mka         44.0      2/8  Ndgae4bSokoBtb97u  \n"
     ]
    }
   ],
   "source": [
    "print(npcs[npcs['Gender'] != npcs['Gender (Asia)']])\n",
    "\n",
    "# npcs['Gender (Asia)'].isnull()"
   ]
  },
  {
   "cell_type": "markdown",
   "metadata": {},
   "source": [
    "`special npcs` 에도 똑같은 사전 번역을 합니다."
   ]
  },
  {
   "cell_type": "code",
   "execution_count": 55,
   "metadata": {},
   "outputs": [
    {
     "name": "stdout",
     "output_type": "stream",
     "text": [
      "<class 'pandas.core.series.Series'>\n",
      "RangeIndex: 63 entries, 0 to 62\n",
      "Series name: Korean Name\n",
      "Non-Null Count  Dtype \n",
      "--------------  ----- \n",
      "62 non-null     object\n",
      "dtypes: object(1)\n",
      "memory usage: 632.0+ bytes\n",
      "0        리포\n",
      "1        리사\n",
      "2        뚱달\n",
      "3       저스틴\n",
      "4       무파라\n",
      "      ...  \n",
      "58       고북\n",
      "59     프랭클린\n",
      "60       스승\n",
      "61      고파유\n",
      "62    낯선고양이\n",
      "Name: Korean Name, Length: 63, dtype: object\n"
     ]
    },
    {
     "data": {
      "text/html": [
       "<div>\n",
       "<style scoped>\n",
       "    .dataframe tbody tr th:only-of-type {\n",
       "        vertical-align: middle;\n",
       "    }\n",
       "\n",
       "    .dataframe tbody tr th {\n",
       "        vertical-align: top;\n",
       "    }\n",
       "\n",
       "    .dataframe thead th {\n",
       "        text-align: right;\n",
       "    }\n",
       "</style>\n",
       "<table border=\"1\" class=\"dataframe\">\n",
       "  <thead>\n",
       "    <tr style=\"text-align: right;\">\n",
       "      <th></th>\n",
       "      <th>Name</th>\n",
       "      <th>Icon Image</th>\n",
       "      <th>Photo Image</th>\n",
       "      <th>Gender</th>\n",
       "      <th>Gender (Asia)</th>\n",
       "      <th>Version Added</th>\n",
       "      <th>NPC ID</th>\n",
       "      <th>Internal ID</th>\n",
       "      <th>Birthday</th>\n",
       "      <th>Unique Entry ID</th>\n",
       "      <th>Korean Name</th>\n",
       "    </tr>\n",
       "  </thead>\n",
       "  <tbody>\n",
       "    <tr>\n",
       "      <th>20</th>\n",
       "      <td>Gullivarrr</td>\n",
       "      <td>NaN</td>\n",
       "      <td>NaN</td>\n",
       "      <td>Male</td>\n",
       "      <td>Male</td>\n",
       "      <td>1.3.0</td>\n",
       "      <td>gulB</td>\n",
       "      <td>69.0</td>\n",
       "      <td>5/25</td>\n",
       "      <td>Qy6ZZFjpN2BNWP4gB</td>\n",
       "      <td>None</td>\n",
       "    </tr>\n",
       "  </tbody>\n",
       "</table>\n",
       "</div>"
      ],
      "text/plain": [
       "          Name Icon Image Photo Image Gender Gender (Asia) Version Added  \\\n",
       "20  Gullivarrr        NaN         NaN   Male          Male         1.3.0   \n",
       "\n",
       "   NPC ID  Internal ID Birthday    Unique Entry ID Korean Name  \n",
       "20   gulB         69.0     5/25  Qy6ZZFjpN2BNWP4gB        None  "
      ]
     },
     "execution_count": 55,
     "metadata": {},
     "output_type": "execute_result"
    }
   ],
   "source": [
    "npcs['Korean Name'] = npcs['Name'].copy()\n",
    "npcs['Korean Name'] = npcs['Korean Name'].apply(lambda v: trans.get(v))\n",
    "npcs['Korean Name'].info()\n",
    "print(npcs['Korean Name'])\n",
    "npcs[npcs['Korean Name'].isnull()]"
   ]
  },
  {
   "cell_type": "markdown",
   "metadata": {},
   "source": [
    "위에 한글 이름이 없는 이 녀석은 한국 이름이 해적이라 캅니다. 수동으로 고치겠습니다."
   ]
  }
 ],
 "metadata": {
  "interpreter": {
   "hash": "6a28367f67cdc883bf0651ab926a45cdaf5821f65ab5104ac3f819fe9582a76b"
  },
  "kernelspec": {
   "display_name": "Python 3.10.2 ('.venv': venv)",
   "language": "python",
   "name": "python3"
  },
  "language_info": {
   "codemirror_mode": {
    "name": "ipython",
    "version": 3
   },
   "file_extension": ".py",
   "mimetype": "text/x-python",
   "name": "python",
   "nbconvert_exporter": "python",
   "pygments_lexer": "ipython3",
   "version": "3.10.2"
  },
  "orig_nbformat": 4
 },
 "nbformat": 4,
 "nbformat_minor": 2
}
